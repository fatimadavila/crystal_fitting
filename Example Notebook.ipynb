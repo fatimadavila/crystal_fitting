{
 "cells": [
  {
   "cell_type": "markdown",
   "metadata": {},
   "source": [
    "Import the needed modules and scripts"
   ]
  },
  {
   "cell_type": "code",
   "execution_count": 1,
   "metadata": {},
   "outputs": [],
   "source": [
    "from crystal_fitting import *\n",
    "from pdb_utils import *"
   ]
  },
  {
   "cell_type": "code",
   "execution_count": 2,
   "metadata": {},
   "outputs": [
    {
     "name": "stdout",
     "output_type": "stream",
     "text": [
      "From 157608 atoms, kept 39936 backbone atoms \"CA, O, N\"\n"
     ]
    }
   ],
   "source": [
    "shell_pdb_file = 'shell.pdb'\n",
    "crystal_pdb_file = 'crystal.pdb'   # This crystal fits inside the nanocage\n",
    "shell_data = read(shell_pdb_file)\n",
    "bbo_shell_data = keep_heavy_bbo_only(shell_data)  # Get backbone atoms only\n",
    "crystal_data = read(crystal_pdb_file)"
   ]
  },
  {
   "cell_type": "markdown",
   "metadata": {},
   "source": [
    "If we want to return the x coordinate of the third atom, for example"
   ]
  },
  {
   "cell_type": "code",
   "execution_count": 3,
   "metadata": {},
   "outputs": [
    {
     "data": {
      "text/plain": [
       "-39.235"
      ]
     },
     "execution_count": 3,
     "metadata": {},
     "output_type": "execute_result"
    }
   ],
   "source": [
    "crystal_data['x_coord'][3]"
   ]
  },
  {
   "cell_type": "markdown",
   "metadata": {},
   "source": [
    "Let's check that the third atom has the returned x coordinates by looking at the first few lines of the pdb"
   ]
  },
  {
   "cell_type": "code",
   "execution_count": 4,
   "metadata": {},
   "outputs": [
    {
     "name": "stdout",
     "output_type": "stream",
     "text": [
      "HETATM    1  Pb   Pb A   1     -39.235 -39.235  -5.605  1.00  0.00          Pb  \r\n",
      "HETATM    2  Br   Br A   2     -42.038 -39.235  -5.605  1.00  0.00          Br  \r\n",
      "HETATM    3  Br   Br A   3     -39.235 -42.038  -5.605  1.00  0.00          Br  \r\n",
      "HETATM    4  Br   Br A   4     -39.235 -39.235  -8.408  1.00  0.00          Br  \r\n",
      "HETATM    5  Cs   Cs A   5     -42.038 -42.038  -2.803  1.00  0.00          Cs  \r\n",
      "HETATM    6  Pb   Pb A   6     -39.235 -39.235   0.000  1.00  0.00          Pb  \r\n",
      "HETATM    7  Br   Br A   7     -42.038 -39.235   0.000  1.00  0.00          Br  \r\n",
      "HETATM    8  Br   Br A   8     -39.235 -42.038   0.000  1.00  0.00          Br  \r\n",
      "HETATM    9  Br   Br A   9     -39.235 -39.235  -2.803  1.00  0.00          Br  \r\n",
      "HETATM   10  Cs   Cs A  10     -42.038 -42.038   2.802  1.00  0.00          Cs  \r\n"
     ]
    }
   ],
   "source": [
    "!head crystal.pdb"
   ]
  },
  {
   "cell_type": "markdown",
   "metadata": {},
   "source": [
    "lets write some code that strips down a pdb of a protein to ONLY include the backbone atoms.\n",
    "The output of bbo_shell_data will be a dictionary with only the backbone atoms\n",
    "Then output to a pdb using data_structure_to_pdb(out_name, data)"
   ]
  },
  {
   "cell_type": "code",
   "execution_count": 5,
   "metadata": {},
   "outputs": [
    {
     "name": "stdout",
     "output_type": "stream",
     "text": [
      "From 157608 atoms, kept 39936 backbone atoms \"CA, O, N\"\n"
     ]
    }
   ],
   "source": [
    "shell_pdb_file = 'shell.pdb'\n",
    "shell_data = read(shell_pdb_file)\n",
    "bbo_shell_data = keep_heavy_bbo_only(shell_data)  # Get backbone atoms only\n",
    "data_structure_to_pdb('shell_backbone.pdb', bbo_shell_data)"
   ]
  },
  {
   "cell_type": "code",
   "execution_count": null,
   "metadata": {},
   "outputs": [],
   "source": []
  }
 ],
 "metadata": {
  "kernelspec": {
   "display_name": "Python 3",
   "language": "python",
   "name": "python3"
  },
  "language_info": {
   "codemirror_mode": {
    "name": "ipython",
    "version": 3
   },
   "file_extension": ".py",
   "mimetype": "text/x-python",
   "name": "python",
   "nbconvert_exporter": "python",
   "pygments_lexer": "ipython3",
   "version": "3.7.4"
  }
 },
 "nbformat": 4,
 "nbformat_minor": 2
}
