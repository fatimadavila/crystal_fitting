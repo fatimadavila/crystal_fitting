{
 "cells": [
  {
   "cell_type": "markdown",
   "metadata": {},
   "source": [
    "Import the needed modules and scripts"
   ]
  },
  {
   "cell_type": "code",
   "execution_count": 1,
   "metadata": {
    "collapsed": true
   },
   "outputs": [],
   "source": [
    "from crystal_fitting import *\n",
    "from pdb_utils import *"
   ]
  },
  {
   "cell_type": "code",
   "execution_count": 2,
   "metadata": {
    "collapsed": true
   },
   "outputs": [],
   "source": [
    "# Glob or change the input from this cell\n",
    "crystal_pdb_file = 'crystal.pdb'   # This crystal fits inside the nanocage\n",
    "shell_pdb_file = 'shell.pdb'\n"
   ]
  },
  {
   "cell_type": "code",
   "execution_count": 3,
   "metadata": {},
   "outputs": [],
   "source": [
    "crystal_data = read(crystal_pdb_file)"
   ]
  },
  {
   "cell_type": "markdown",
   "metadata": {},
   "source": [
    "If we want to return the x coordinate of the third atom, for example"
   ]
  },
  {
   "cell_type": "code",
   "execution_count": 4,
   "metadata": {},
   "outputs": [
    {
     "data": {
      "text/plain": [
       "-39.235"
      ]
     },
     "execution_count": 4,
     "metadata": {},
     "output_type": "execute_result"
    }
   ],
   "source": [
    "crystal_data['x_coord'][3]"
   ]
  },
  {
   "cell_type": "markdown",
   "metadata": {},
   "source": [
    "Let's check that the third atom has the returned x coordinates by looking at the first few lines of the pdb"
   ]
  },
  {
   "cell_type": "code",
   "execution_count": 5,
   "metadata": {},
   "outputs": [
    {
     "name": "stdout",
     "output_type": "stream",
     "text": [
      "HETATM    1  Pb   Pb A   1     -39.235 -39.235  -5.605  1.00  0.00          Pb  \r\n",
      "HETATM    2  Br   Br A   2     -42.038 -39.235  -5.605  1.00  0.00          Br  \r\n",
      "HETATM    3  Br   Br A   3     -39.235 -42.038  -5.605  1.00  0.00          Br  \r\n",
      "HETATM    4  Br   Br A   4     -39.235 -39.235  -8.408  1.00  0.00          Br  \r\n",
      "HETATM    5  Cs   Cs A   5     -42.038 -42.038  -2.803  1.00  0.00          Cs  \r\n",
      "HETATM    6  Pb   Pb A   6     -39.235 -39.235   0.000  1.00  0.00          Pb  \r\n",
      "HETATM    7  Br   Br A   7     -42.038 -39.235   0.000  1.00  0.00          Br  \r\n",
      "HETATM    8  Br   Br A   8     -39.235 -42.038   0.000  1.00  0.00          Br  \r\n",
      "HETATM    9  Br   Br A   9     -39.235 -39.235  -2.803  1.00  0.00          Br  \r\n",
      "HETATM   10  Cs   Cs A  10     -42.038 -42.038   2.802  1.00  0.00          Cs  \r\n"
     ]
    }
   ],
   "source": [
    "!head crystal.pdb"
   ]
  },
  {
   "cell_type": "markdown",
   "metadata": {},
   "source": [
    "lets write some code that strips down a pdb of a protein to ONLY include the backbone atoms.\n",
    "The output of bbo_shell_data will be a dictionary with only the backbone atoms\n",
    "Then output to a pdb using data_structure_to_pdb(out_name, data)"
   ]
  },
  {
   "cell_type": "code",
   "execution_count": 5,
   "metadata": {},
   "outputs": [
    {
     "name": "stdout",
     "output_type": "stream",
     "text": [
      "From 157608 atoms, kept 39936 backbone atoms \"CA, O, N\"\n"
     ]
    }
   ],
   "source": [
    "shell_data = read(shell_pdb_file)\n",
    "bbo_shell_data = keep_heavy_bbo_only(shell_data)  # Get backbone atoms only\n",
    "data_structure_to_pdb('shell_backbone.pdb', bbo_shell_data)"
   ]
  },
  {
   "cell_type": "code",
   "execution_count": null,
   "metadata": {
    "collapsed": true
   },
   "outputs": [],
   "source": [
    "# If you only want to consider the atoms on the outermost surface use this block\n",
    "surface_crystal_indices = get_outermost_surface(crystal_data)\n",
    "surface_crystal_data = indices_to_data_structure(surface_crystal_indices, crystal_data)"
   ]
  },
  {
   "cell_type": "code",
   "execution_count": null,
   "metadata": {
    "collapsed": true
   },
   "outputs": [],
   "source": [
    "    # # Coarse fitting metrics\n",
    "    # fit, spill_crystal_indices, clash_shell_indices, nn_distances = fit_check(bbo_shell_data, surface_crystal_data)\n",
    "    # nn_dist_array = np.array(nn_distances)\n",
    "    # min_nn_distance = np.amin(nn_dist_array)\n",
    "    # mean_nn_distance = np.mean(nn_dist_array)\n",
    "    # std_nn_distance = np.std(nn_dist_array)\n",
    "    # max_nn_distance = np.amax(nn_dist_array)\n",
    "    # print('METRICS OF NEAREST NEIGHBOR DISTANCES (Å) FROM CRYSTAL TO CLOSEST PROTEIN BACKBONE ATOM')\n",
    "    # print('\\tMINIMUM            ', min_nn_distance)\n",
    "    # print('\\tAVERAGE            ', mean_nn_distance)\n",
    "    # print('\\tSTANDARD DEVIATION ', std_nn_distance)\n",
    "    # print('\\tMAXIMUM            ', max_nn_distance)\n",
    "    # percentage_poking = len(spill_crystal_indices)*100/len(surface_crystal_indices)\n",
    "    # print('PERCENTAGE OF CRYSTAL SURFACE ATOMS POKING THROUGH THE PROTEIN NANOCAGE: '+str(percentage_poking))\n"
   ]
  },
  {
   "cell_type": "code",
   "execution_count": null,
   "metadata": {
    "collapsed": true
   },
   "outputs": [],
   "source": [
    "    # Fine fitting metrics\n",
    "    neighbor_cutoff_distance = 10  # In Angstroms\n",
    "    nn_data_in, nn_data_out = fine_fit(bbo_shell_data, surface_crystal_data, neighbor_cutoff_distance)\n",
    "    residue_near_crystal(nn_data_in, bbo_shell_data)\n",
    "    # print(nn_data_in)\n",
    "    # # print(nn_data_out)\n",
    "    # nonzero_interactions_in = [len(x) for x in nn_data_in if len(x) > 0]\n",
    "    # nonzero_interactions_out = [len(x) for x in nn_data_out if len(x) > 0]\n",
    "    # # print(nonzero_interactions_in)\n",
    "    # # print(nonzero_interactions_out)\n",
    "    # total_interactions_in = len(nonzero_interactions_in)\n",
    "    # total_interactions_out = len(nonzero_interactions_out)\n",
    "    # print('\\nINTERACTIONS WITHIN {0}Å FROM THE SURFACE OF THE NANOCRYSTAL'.format(str(neighbor_cutoff_distance)))\n",
    "    # print('\\tOUTSIDE THE PROTEIN NANOCAGE')\n",
    "    # print('\\t\\tTOTAL: ', total_interactions_out)\n",
    "    # print('\\tNONZERO INSIDE THE PROTEIN NANOCAGE')\n",
    "    # print('\\t\\tTOTAL: ', total_interactions_in)\n",
    "    # min_interactions_nonzero = min(nonzero_interactions_in)\n",
    "    # average_interactions_nonzero = sum(nonzero_interactions_in)/len(nonzero_interactions_in)\n",
    "    # max_interactions_nonzero = max(nonzero_interactions_in)\n",
    "    # print('\\t\\tMINIMUM: ', min_interactions_nonzero)  #Not sure if this is relevant since they are nonzero\n",
    "    # print('\\t\\tAVERAGE: ', average_interactions_nonzero)\n",
    "    # print('\\t\\tMAXIMUM: ', max_interactions_nonzero)\n"
   ]
  },
  {
   "cell_type": "markdown",
   "metadata": {},
   "source": [
    "from glob import glob\n",
    "\n",
    "protein_pdbs = glob.glob('*proteinpattern*pdb')\n",
    "crystal_pdbs = glob.glob('*crystalpattern*pdb')\n",
    "\n",
    "def do_analysis(protein, crystal, criteria)\n",
    "\n",
    "\treturn results\n",
    "\n",
    "\n",
    "def write_to_scorefile(results, filename)\n",
    "\n",
    "\n",
    "for protein in protein_pdbs:\n",
    "\tfor crystal in crystal_pdbs:\n",
    "\t\tdo_analysis(protein, crystal, criteria)\n",
    "\t\twrite_to_scorefile(results, filename)\n",
    "\n",
    "* What results should look like?\n",
    "\t- Number of atoms on the surface of the crystal that are within X Å of a backbone atom.\n",
    "\t\t- X is one of the criteria and a user input Harley is working on.\n",
    "\t- Number of residues within X distance from a crystal atom.\n",
    "\t\t- \n",
    "\t- Number of atoms in the surface of the crystal that are within Y Å of a backbone atom.\n",
    "\t\t- \"Bad clashes\"\n",
    "\t\t- min_nn_distance\n",
    "\t- Number of atoms with an interaction/total number of surface atoms on crystal\n",
    "\t\t- \"Surface coverage\"\n",
    "\t\t- Dependent on the interaction cutoff that is defined X.\n",
    "\t\t- total_interactions_in/(len(nn_data_in))\n",
    "\n",
    "* WISHLIST\n",
    "\t- Number of non-loop residues within X distance from a crystal atom.\n",
    "\t\t- Maybe breakdown helical, sheet and loop? (open to discussion)\n",
    "\t- Breakdown of closest species of atoms to residues. e.g. how many sulfur atoms are near a backbone atom?\n"
   ]
  },
  {
   "cell_type": "code",
   "execution_count": null,
   "metadata": {
    "collapsed": true
   },
   "outputs": [],
   "source": []
  }
 ],
 "metadata": {
  "kernelspec": {
   "display_name": "Python 3",
   "language": "python",
   "name": "python3"
  },
  "language_info": {
   "codemirror_mode": {
    "name": "ipython",
    "version": 3
   },
   "file_extension": ".py",
   "mimetype": "text/x-python",
   "name": "python",
   "nbconvert_exporter": "python",
   "pygments_lexer": "ipython3",
   "version": "3.6.0"
  }
 },
 "nbformat": 4,
 "nbformat_minor": 2
}
